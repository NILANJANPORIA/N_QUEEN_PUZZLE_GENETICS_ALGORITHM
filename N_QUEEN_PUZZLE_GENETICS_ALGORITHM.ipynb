{
 "cells": [
  {
   "cell_type": "code",
   "execution_count": 1,
   "metadata": {},
   "outputs": [],
   "source": [
    "#importing Libraries\n",
    "import random\n",
    "import numpy as np"
   ]
  },
  {
   "cell_type": "code",
   "execution_count": 2,
   "metadata": {},
   "outputs": [],
   "source": [
    "# This function creates random chromosomes (generator typed object) \n",
    "def random_chromosome(chromosome_length):  \n",
    "    return [ random.randint(1, chromosome_length) for dna in range(chromosome_length) ]"
   ]
  },
  {
   "cell_type": "code",
   "execution_count": 3,
   "metadata": {},
   "outputs": [],
   "source": [
    "# This function measure the fitness ('Maximum Fitness' - Threats ) for any chromosome\n",
    "# In this approach, there will not be any vertical-threat as each DNA of Chromosome represent position of only one Queen in entire column\n",
    "\n",
    "def fitness(chromosome, maxFitness):\n",
    "    # Horizontal threat Calculation\n",
    "    horizontal_threats = abs(len(chromosome) - len(np.unique(chromosome)))\n",
    "    \n",
    "    # Diagonal threat Calculation\n",
    "    diagonal_threats = 0\n",
    "    for row in range(len(chromosome)):\n",
    "        for col in range(len(chromosome)):\n",
    "            if ( row != col):\n",
    "                diagonal_axis = abs(row-col)\n",
    "                diagonal_value = abs(chromosome[row] - chromosome[col])\n",
    "                if(diagonal_axis == diagonal_value):\n",
    "                    diagonal_threats += 1\n",
    "    \n",
    "    fitness = maxFitness - horizontal_threats - diagonal_threats  # as there is no vertical-threat \n",
    "    \n",
    "    return fitness"
   ]
  },
  {
   "cell_type": "code",
   "execution_count": 4,
   "metadata": {},
   "outputs": [],
   "source": [
    "# This function measure the probablity of a chromosome wrt 'maximum possible Fitness'\n",
    "def probability(chromosome, fitness , maxFitness):\n",
    "    return fitness(chromosome,maxFitness) / maxFitness"
   ]
  },
  {
   "cell_type": "code",
   "execution_count": 5,
   "metadata": {},
   "outputs": [],
   "source": [
    "# This function is used to reproduce new chromosome by doing a cross_over between two chromosomes\n",
    "def cross_over(chromosome_1, chromosome_2):\n",
    "    cross_over_point = random.randint(0, len(chromosome_1) - 1)\n",
    "    return chromosome_1[0:cross_over_point] + chromosome_2[cross_over_point:len(chromosome_1)]"
   ]
  },
  {
   "cell_type": "code",
   "execution_count": 6,
   "metadata": {},
   "outputs": [],
   "source": [
    "#This function is used to mutate a chromosome at random position \n",
    "def mutatation(chromosome):  \n",
    "    dna_pos = random.randint(0, len(chromosome) - 1)\n",
    "    mutated_dna = random.randint(1, len(chromosome))\n",
    "    chromosome[dna_pos] = mutated_dna\n",
    "    return chromosome"
   ]
  },
  {
   "cell_type": "code",
   "execution_count": 7,
   "metadata": {},
   "outputs": [],
   "source": [
    "#This function used \"Roulette Wheel Selection\" algorithm for choosing a parent chromosome\n",
    "def parent_selection_Roulette_Wheel(population, probabilities):\n",
    "    populationWithProbabilty = zip(population, probabilities)\n",
    "    total_weightage = sum(weightage for chromosome, weightage in zip(population, probabilities))\n",
    "    random_survival_weightage = random.uniform(0, total_weightage)\n",
    "    Cumulative_weightage = 0\n",
    "    for chromosome, weightage in zip(population, probabilities):\n",
    "        if Cumulative_weightage + weightage >= random_survival_weightage:\n",
    "            return chromosome\n",
    "        Cumulative_weightage += weightage"
   ]
  },
  {
   "cell_type": "code",
   "execution_count": 8,
   "metadata": {},
   "outputs": [],
   "source": [
    "#This function used to generate offspring-chromosome and return new population\n",
    "def generate_offspring(population, fitness,maxFitness,mutation_probability):\n",
    "    new_population = []\n",
    "    probabilities = [probability(chromosome, fitness, maxFitness) for chromosome in population]\n",
    "    for i in range(len(population)):\n",
    "        parent_chromosome_1 = parent_selection_Roulette_Wheel(population, probabilities) \n",
    "        parent_chromosome_2 = parent_selection_Roulette_Wheel(population, probabilities) \n",
    "        offspring_chromosome = cross_over(parent_chromosome_1, parent_chromosome_2) \n",
    "        if random.random() < mutation_probability:\n",
    "            offspring_chromosome = mutatation(offspring_chromosome)\n",
    "        new_population.append(offspring_chromosome)\n",
    "        \n",
    "        if fitness(offspring_chromosome,maxFitness) == maxFitness: \n",
    "            break\n",
    "    return new_population"
   ]
  },
  {
   "cell_type": "code",
   "execution_count": 9,
   "metadata": {},
   "outputs": [],
   "source": [
    "def visualization_chessboard(no_of_queen,chromosome_solution):\n",
    "    board = []\n",
    "    for x in range(no_of_queen):\n",
    "        board.append([\"x\"] * no_of_queen)    \n",
    "        \n",
    "    for i in range(no_of_queen):\n",
    "        board[chromosome_solution[i]-1][i]=\"Q\"\n",
    "            \n",
    "    def print_board(board):\n",
    "        for row in board:\n",
    "            print (\" \".join(row))\n",
    "            \n",
    "    print(f\"Display the Queen Position of the {no_of_queen}-Queen Puzzle : \")\n",
    "    print_board(board)"
   ]
  },
  {
   "cell_type": "code",
   "execution_count": 10,
   "metadata": {},
   "outputs": [],
   "source": [
    "def validation(fit_chromosome,no_of_queen):\n",
    "    checkboard=np.zeros((no_of_queen,no_of_queen))\n",
    "    validation = True\n",
    "    \n",
    "    for col in range(no_of_queen):\n",
    "        checkboard[fit_chromosome[col]-1][col] = 1\n",
    "    \n",
    "    \n",
    "    #check horizontal and vertical threat\n",
    "    if not np.array_equal( checkboard.sum(axis=0) , np.ones(no_of_queen)) : validation = False\n",
    "    if not np.array_equal( checkboard.sum(axis=1) , np.ones(no_of_queen))  : validation = False\n",
    "    \n",
    "    for row in range(no_of_queen):\n",
    "        for col in range(no_of_queen):\n",
    "            if ( row != col):\n",
    "                diagonal_axis = abs(row-col)\n",
    "                diagonal_value = abs(fit_chromosome[row] - chromosome[col])\n",
    "                if(diagonal_axis == diagonal_value): \n",
    "                    print(f\"\\n Queen Hits  on {row},{col}\")\n",
    "                    validation = False\n",
    "    \n",
    "    assert validation == True, \"N-Queen Puzzle is not solved\"\n",
    "    return validation"
   ]
  },
  {
   "cell_type": "code",
   "execution_count": 11,
   "metadata": {},
   "outputs": [
    {
     "name": "stdout",
     "output_type": "stream",
     "text": [
      "Display the Queen Position of the 8-Queen Puzzle : \n",
      "x x x x Q x x x\n",
      "Q x x x x x x x\n",
      "x x x Q x x x x\n",
      "x x x x x Q x x\n",
      "x x x x x x x Q\n",
      "x Q x x x x x x\n",
      "x x x x x x Q x\n",
      "x x Q x x x x x\n",
      "\n",
      "\n",
      "Solution of the 8-Queen Puzzle : \n",
      "[2, 6, 8, 3, 1, 4, 7, 5]\n"
     ]
    }
   ],
   "source": [
    "if __name__ == \"__main__\":\n",
    "    no_of_queen =8\n",
    "    maxFitness = (no_of_queen*(no_of_queen-1))/2  \n",
    "    population_size = 100\n",
    "    mutation_probability = 0.01\n",
    "    \n",
    "    population = [random_chromosome(no_of_queen) for _ in range(population_size)]\n",
    "    \n",
    "\n",
    "    while not maxFitness in [fitness(chromosome,maxFitness) for chromosome in population]:\n",
    "        population = generate_offspring(population, fitness,maxFitness,mutation_probability)\n",
    "\n",
    "\n",
    "    for chromosome in population:\n",
    "        if fitness(chromosome,maxFitness) == maxFitness: final_chromosome = chromosome\n",
    "    \n",
    "    \n",
    "    \n",
    "    visualization_chessboard(no_of_queen,final_chromosome)\n",
    "    validation(final_chromosome,no_of_queen)\n",
    "    \n",
    "    print(f\"\\n\\nSolution of the {no_of_queen}-Queen Puzzle : \")\n",
    "    print(final_chromosome) \n",
    "    \n",
    "            "
   ]
  },
  {
   "cell_type": "code",
   "execution_count": null,
   "metadata": {},
   "outputs": [],
   "source": []
  }
 ],
 "metadata": {
  "kernelspec": {
   "display_name": "Python 3",
   "language": "python",
   "name": "python3"
  },
  "language_info": {
   "codemirror_mode": {
    "name": "ipython",
    "version": 3
   },
   "file_extension": ".py",
   "mimetype": "text/x-python",
   "name": "python",
   "nbconvert_exporter": "python",
   "pygments_lexer": "ipython3",
   "version": "3.7.6"
  }
 },
 "nbformat": 4,
 "nbformat_minor": 4
}
